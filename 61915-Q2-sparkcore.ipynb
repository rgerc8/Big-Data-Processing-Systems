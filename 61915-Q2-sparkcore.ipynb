{
  "cells": [
    {
      "cell_type": "markdown",
      "metadata": {
        "id": "MM6P5ye2ZYQu"
      },
      "source": [
        "### Question 2 - Top 3 Cities\n",
        "\n",
        "  For each country, compute the top 3 cities with best air quality and the top 3 cities with poorest air quality, updated weekly, i.e., averaged over a week (7 days).\n",
        "\n",
        " **Requirement**: Solve this question using Spark Core, Spark Dataframes and Spark SQL."
      ]
    },
    {
      "cell_type": "code",
      "execution_count": 1,
      "metadata": {
        "colab": {
          "base_uri": "https://localhost:8080/"
        },
        "id": "b5lTR4xHZl-M",
        "outputId": "33772913-e780-4183-c998-d4b41980abcd"
      },
      "outputs": [
        {
          "name": "stdout",
          "output_type": "stream",
          "text": [
            "Mounted at /content/drive\n"
          ]
        }
      ],
      "source": [
        "#@title Mount Google Drive\n",
        "from google.colab import drive\n",
        "drive.mount('/content/drive') # Faz o mount da drive"
      ]
    },
    {
      "cell_type": "code",
      "execution_count": 2,
      "metadata": {
        "colab": {
          "base_uri": "https://localhost:8080/"
        },
        "id": "VONcpBPeZPYi",
        "outputId": "1b3f4eda-077d-4ca6-e3de-ae4831c128fa"
      },
      "outputs": [
        {
          "name": "stdout",
          "output_type": "stream",
          "text": [
            "\u001b[K     |████████████████████████████████| 281.4 MB 42 kB/s \n",
            "\u001b[K     |████████████████████████████████| 199 kB 52.6 MB/s \n",
            "\u001b[?25h  Building wheel for pyspark (setup.py) ... \u001b[?25l\u001b[?25hdone\n"
          ]
        }
      ],
      "source": [
        "#@title Install Pyspark\n",
        "!pip install --quiet pyspark # Faz a instalação do Pyspark"
      ]
    },
    {
      "cell_type": "code",
      "execution_count": 4,
      "metadata": {
        "id": "gsSUYaWlOmwM"
      },
      "outputs": [],
      "source": [
        "#@title Dataset\n",
        "!head -10000 /content/drive/MyDrive/projeto_spbd/sds011-2020-01-0*.csv > files\n",
        "!head -10000 /content/drive/MyDrive/projeto_spbd/sds011-2020-01-1*.csv >> files\n",
        "!head -10000 /content/drive/MyDrive/projeto_spbd/sds011-2020-01-2*.csv >> files\n",
        "!head -10000 /content/drive/MyDrive/projeto_spbd/sds011-2020-01-3*.csv >> files\n",
        "!head -10000 /content/drive/MyDrive/projeto_spbd/sds011-2020-02-0*.csv >> files\n",
        "!head -10000 /content/drive/MyDrive/projeto_spbd/sds011-2020-02-1*.csv >> files\n",
        "!head -10000 /content/drive/MyDrive/projeto_spbd/sds011-2020-02-2*.csv >> files\n",
        "!head -10000 /content/drive/MyDrive/projeto_spbd/sds011-2020-03-0*.csv >> files\n",
        "!head -10000 /content/drive/MyDrive/projeto_spbd/sds011-2020-03-1*.csv >> files\n",
        "!head -10000 /content/drive/MyDrive/projeto_spbd/sds011-2020-03-2*.csv >> files\n",
        "!head -10000 /content/drive/MyDrive/projeto_spbd/sds011-2020-03-3*.csv >> files"
      ]
    },
    {
      "cell_type": "code",
      "execution_count": 5,
      "metadata": {
        "colab": {
          "base_uri": "https://localhost:8080/"
        },
        "id": "bUlHi2DyzRcK",
        "outputId": "bdc595c9-941d-4e0f-d46b-24bc16d3d8a6"
      },
      "outputs": [
        {
          "name": "stderr",
          "output_type": "stream",
          "text": [
            "WARNING:root:'PYARROW_IGNORE_TIMEZONE' environment variable was not set. It is required to set this environment variable to '1' in both driver and executor sides if you use pyarrow>=2.0.0. pandas-on-Spark will set it for you but it does not work if there is a Spark context already launched.\n"
          ]
        },
        {
          "name": "stdout",
          "output_type": "stream",
          "text": [
            "('France', 1) [(340.6875, 'Tullins'), (886.99, 'Gallardon'), (2097.0088888888886, 'Luitré')] [(0.3333333333333334, 'Arnouville'), (0.9644444444444444, 'Sargé-lès-le-Mans'), (1.6175000000000002, 'Brest')]\n",
            "('France', 2) [(144.1007142857143, 'Crusnes'), (160.1616666666667, 'Fonsorbes'), (2999.8, 'Luitré')] [(0.11454545454545456, 'Arnouville'), (1.093076923076923, 'Sargé-lès-le-Mans'), (2.6325000000000003, 'Brest')]\n",
            "('France', 3) [(103.99766666666666, 'Anglet'), (238.21727272727276, 'Péchabou'), (2999.8, 'Luitré')] [(0.27166666666666667, 'Arnouville'), (0.55, 'Brest'), (1.1764285714285714, 'Sargé-lès-le-Mans')]\n",
            "('France', 4) [(180.86461538461538, 'Passy'), (276.13205882352946, 'Serémange-Erzange'), (759.2719999999999, 'Luitré')] [(0.6133333333333335, 'Arnouville'), (1.2546153846153847, 'Sargé-lès-le-Mans'), (2.631666666666667, 'Figeac')]\n",
            "('France', 5) [(172.39142857142858, 'Luitré'), (234.9975, 'Bois-Colombes'), (339.0488888888889, 'Tinténiac')] [(0.16363636363636364, 'Arnouville'), (0.30444444444444446, 'Huningue'), (0.8216666666666667, 'Mulhouse')]\n",
            "('France', 6) [(88.61000000000001, 'Péchabou'), (171.9872727272727, 'Passy'), (2999.8, 'Luitré')] [(0.28, 'Arnouville'), (0.5950000000000001, 'Huningue'), (0.98, 'Mulhouse')]\n",
            "('France', 7) [(86.38727272727273, 'Bretignolles-sur-Mer'), (136.0518181818182, 'Jardin'), (2999.8000000000006, 'Luitré')] [(0.13333333333333333, 'Arnouville'), (1.5666666666666667, 'Tournus'), (2.07125, 'Mulhouse')]\n",
            "('France', 8) [(85.85, 'Léguevin'), (133.0377777777778, 'Jardin'), (2999.7999999999997, 'Luitré')] [(0.8111111111111111, 'Sargé-lès-le-Mans'), (1.52, 'Figeac'), (2.041666666666667, 'Mulhouse')]\n",
            "('France', 9) [(70.88714285714288, 'Passy'), (75.24, 'Fargues-Saint-Hilaire'), (2999.8, 'Luitré')] [(0.25000000000000006, 'Arnouville'), (0.5, 'Clichy'), (0.5750000000000001, 'Sargé-lès-le-Mans')]\n",
            "('France', 10) [(52.36142857142857, 'Bretignolles-sur-Mer'), (82.2084, 'La Tronche'), (2999.8, 'Luitré')] [(0.30909090909090914, 'Arnouville'), (0.4875, 'Sargé-lès-le-Mans'), (1.0, 'Clichy')]\n",
            "('France', 11) [(68.23, 'Sainte-Marie'), (617.0088888888889, 'Bretignolles-sur-Mer'), (2999.7999999999997, 'Luitré')] [(0.1111111111111111, 'Arnouville'), (0.33333333333333337, 'Sargé-lès-le-Mans'), (0.9345454545454547, 'Figeac')]\n",
            "('France', 12) [(81.02454545454545, 'Saint-Jean-des-Champs'), (1581.9419999999998, 'Bretignolles-sur-Mer'), (2999.8, 'Luitré')] [(0.1630769230769231, 'Arnouville'), (0.6974999999999999, 'Figeac'), (0.8742857142857143, 'Sargé-lès-le-Mans')]\n",
            "('France', 13) [(337.63000000000005, 'Jardin'), (941.8866666666667, 'Bretignolles-sur-Mer'), (2999.7999999999997, 'Luitré')] [(0.9, 'Brest'), (2.2469230769230766, 'Pleumeleuc'), (2.8200000000000003, 'Lumbin')]\n",
            "('France', 14) [(61.235, 'Bassens'), (67.555, 'May-sur-Orne'), (2999.8000000000006, 'Luitré')] [(0.292, 'Mulhouse'), (0.65, 'Arnouville'), (0.852, 'Pleumeleuc')]\n",
            "('Germany', 1) [(2999.8, 'Aulendorf'), (2999.8, 'Bad Schwartau'), (2999.8, 'Rednitzhembach')] [(0.0, 'Lage'), (0.02, 'Ostrhauderfehn'), (0.06599999999999999, 'Bernau am Chiemsee')]\n",
            "('Germany', 2) [(2999.7999999999997, 'Aulendorf'), (2999.8, 'Bad Schwartau'), (2999.8, 'Rednitzhembach')] [(0.0, 'Bernau am Chiemsee'), (0.0, 'Ostrhauderfehn'), (0.018181818181818184, 'Altensteig')]\n",
            "('Germany', 3) [(2999.8, 'Rednitzhembach'), (2999.8, 'Werlte'), (3093.635555555555, 'Adelheidsdorf')] [(0.0, 'Bernau am Chiemsee'), (0.0, 'Ostrhauderfehn'), (0.015384615384615385, 'Eurasburg')]\n",
            "('Germany', 4) [(2999.8, 'Rednitzhembach'), (2999.8, 'Werlte'), (3266.5699999999993, 'Adelheidsdorf')] [(0.0, 'Ostrhauderfehn'), (0.0, 'Ochtrup'), (0.0, 'Altensteig')]\n",
            "('Germany', 5) [(2999.8, 'Bad Schwartau'), (2999.8, 'Rednitzhembach'), (3266.5699999999997, 'Adelheidsdorf')] [(0.0, 'Ochtrup'), (0.0, 'Bernau am Chiemsee'), (0.005, 'Ostrhauderfehn')]\n",
            "('Germany', 6) [(2999.7999999999997, 'Roskow'), (2999.8, 'Werlte'), (2999.8, 'Aulendorf')] [(0.0, 'Ochtrup'), (0.0, 'Wurmlingen'), (0.0, 'Ostrhauderfehn')]\n",
            "('Germany', 7) [(2999.8, 'Werlte'), (2999.8000000000006, 'Rednitzhembach'), (3266.5699999999993, 'Adelheidsdorf')] [(0.0, 'Bernau am Chiemsee'), (0.0, 'Ostrhauderfehn'), (0.0, 'Ochtrup')]\n",
            "('Germany', 8) [(2999.7999999999997, 'Aulendorf'), (2999.7999999999997, 'Ennigerloh'), (3266.5699999999997, 'Adelheidsdorf')] [(0.0, 'Bernau am Chiemsee'), (0.0, 'Ostrhauderfehn'), (0.0, 'Ochtrup')]\n",
            "('Germany', 9) [(2999.8, 'Bad Schwartau'), (2999.8, 'Roskow'), (3266.5699999999997, 'Adelheidsdorf')] [(0.0, 'Altensteig'), (0.0, 'Ochtrup'), (0.0, 'Bernau am Chiemsee')]\n",
            "('Germany', 10) [(2999.8, 'Rednitzhembach'), (2999.8, 'Roskow'), (3266.5699999999997, 'Adelheidsdorf')] [(0.0, 'Ochtrup'), (0.0, 'Bernau am Chiemsee'), (0.0, 'Ostrhauderfehn')]\n",
            "('Germany', 11) [(2999.8, 'Bad Schwartau'), (2999.8, 'Roskow'), (3266.5699999999993, 'Adelheidsdorf')] [(0.0, 'Bernau am Chiemsee'), (0.0, 'Ochtrup'), (0.02, 'Ostrhauderfehn')]\n",
            "('Germany', 12) [(2999.8, 'Aulendorf'), (2999.8, 'Ennigerloh'), (3266.5699999999993, 'Adelheidsdorf')] [(0.0, 'Bernau am Chiemsee'), (0.0, 'Ostrhauderfehn'), (0.0, 'Ochtrup')]\n",
            "('Germany', 13) [(2999.8, 'Aulendorf'), (2999.8, 'Ennigerloh'), (3266.5699999999993, 'Adelheidsdorf')] [(0.0, 'Altensteig'), (0.0, 'Ochtrup'), (0.034, 'Ostrhauderfehn')]\n",
            "('Germany', 14) [(2999.8, 'Roskow'), (2999.8, 'Bad Kissingen'), (3266.5699999999997, 'Adelheidsdorf')] [(0.0, 'Ochtrup'), (0.0, 'Altensteig'), (0.0, 'Bernau am Chiemsee')]\n",
            "('Poland', 1) [(410.716, 'Pszczyna'), (424.98888888888894, 'Mysłowice'), (517.83, 'Świerklaniec')] [(4.1979999999999995, 'Strzelce Krajeńskie'), (5.786999999999999, 'Pajęczno'), (14.208333333333334, 'Szczawno-Zdrój')]\n",
            "('Poland', 2) [(289.7616666666667, 'Szczerbice'), (308.0911111111111, 'Pszczyna'), (410.3191666666667, 'Sidzina')] [(0.9857142857142859, 'Lublewo Gdańskie'), (2.18, 'Dobroszyce'), (4.75625, 'Strzelce Krajeńskie')]\n",
            "('Poland', 3) [(423.8533333333333, 'Szczerbice'), (443.15, 'Żerniki Wrocławskie'), (463.9915, 'Sidzina')] [(1.0716666666666665, 'Lublewo Gdańskie'), (3.08, 'Lubliniec'), (5.907272727272727, 'Dobroszyce')]\n",
            "('Poland', 4) [(314.954, 'Choszczno'), (337.00941176470593, 'Bielsko-Biala'), (372.826, 'Tułowice')] [(2.46, 'Strzelce Krajeńskie'), (3.9454545454545453, 'Dobroszyce'), (5.38375, 'Lublewo Gdańskie')]\n",
            "('Poland', 5) [(237.79857142857142, 'Sidzina'), (242.23600000000002, 'Piekoszów'), (369.91333333333336, 'Pszczyna')] [(1.6816666666666664, 'Strzelce Krajeńskie'), (6.285384615384615, 'Pajęczno'), (6.427692307692308, 'Dobroszyce')]\n",
            "('Poland', 6) [(244.03599999999997, 'Oświęcim'), (282.96391304347827, 'Sidzina'), (289.58000000000004, 'Janów Lubelski')] [(1.4566666666666668, 'Dobroszyce'), (2.475454545454546, 'Strzelce Krajeńskie'), (10.825555555555558, 'Pajęczno')]\n",
            "('Poland', 7) [(174.7488888888889, 'Łomża'), (253.2685, 'Sidzina'), (465.65000000000003, 'Lubawa')] [(2.27, 'Dobroszyce'), (3.4099999999999997, 'Strzelce Krajeńskie'), (3.8069230769230766, 'Pajęczno')]\n",
            "('Poland', 8) [(193.76999999999998, 'Wieszowa'), (210.3875, 'Grabów nad Prosną'), (298.6115789473684, 'Sidzina')] [(0.775, 'Dobroszyce'), (0.9562500000000002, 'Strzelce Krajeńskie'), (2.7390909090909092, 'Cieplice Śląskie Zdrój')]\n",
            "('Poland', 9) [(214.59714285714284, 'Rogów'), (260.43157894736845, 'Sidzina'), (269.06666666666666, 'Orzech')] [(0.9916666666666667, 'Dobroszyce'), (2.05, 'Pajęczno'), (2.727692307692308, 'Cieplice Śląskie Zdrój')]\n",
            "('Poland', 10) [(283.92625, 'Grabów nad Prosną'), (334.6566666666666, 'Rydułtowy'), (435.73749999999995, 'Świerklaniec')] [(0.0, 'Siemiatycze'), (1.5977777777777777, 'Dobroszyce'), (3.341111111111111, 'Strzelce Krajeńskie')]\n",
            "('Poland', 11) [(206.60307692307694, 'Grabów nad Prosną'), (212.90222222222224, 'Rydułtowy'), (331.89, 'Turza Śląska')] [(0.0, 'Siemiatycze'), (1.7240000000000002, 'Dobroszyce'), (1.85, 'Strzelce Krajeńskie')]\n",
            "('Poland', 12) [(249.35416666666666, 'Sidzina'), (280.50142857142856, 'Świerklany Górne'), (348.45666666666665, 'Turza Śląska')] [(0.0, 'Siemiatycze'), (2.232857142857143, 'Dobroszyce'), (11.104999999999999, 'Strzelce Krajeńskie')]\n",
            "('Poland', 13) [(218.64699999999993, 'Świdnica'), (222.84833333333333, 'Dębe Wielkie'), (242.8516666666666, 'Puszczykowo')] [(0.0, 'Siemiatycze'), (1.747142857142857, 'Dobroszyce'), (3.973333333333333, 'Pajęczno')]\n",
            "('Poland', 14) [(288.55, 'Janów Lubelski'), (344.1375, 'Paniówki'), (442.375, 'Rydułtowy')] [(0.0, 'Siemiatycze'), (0.15000000000000002, 'Dobroszyce'), (3.796666666666667, 'Spiczyn')]\n",
            "('Portugal', 1) [(127.99124999999998, 'Senhora da Hora'), (191.43, 'Corroios'), (214.968125, 'Paredes')] [(35.14833333333333, 'Aljubarrota'), (39.28222222222222, 'Lagos'), (127.99124999999998, 'Senhora da Hora')]\n",
            "('Portugal', 2) [(104.95181818181817, 'Senhora da Hora'), (161.66, 'Paredes'), (285.24666666666667, 'Corroios')] [(21.35076923076923, 'Lagos'), (60.330999999999996, 'Aljubarrota'), (104.95181818181817, 'Senhora da Hora')]\n",
            "('Portugal', 3) [(37.11666666666667, 'Aljubarrota'), (52.103571428571435, 'Paredes'), (163.64230769230772, 'Corroios')] [(21.756428571428575, 'Lagos'), (27.471818181818175, 'Senhora da Hora'), (37.11666666666667, 'Aljubarrota')]\n",
            "('Portugal', 4) [(28.21333333333334, 'Senhora da Hora'), (32.5575, 'Corroios'), (67.63421052631578, 'Paredes')] [(18.16857142857143, 'Lagos'), (21.865384615384617, 'Aljubarrota'), (28.21333333333334, 'Senhora da Hora')]\n",
            "('Portugal', 5) [(25.688888888888886, 'Corroios'), (40.64846153846153, 'Lagos'), (128.70583333333335, 'Senhora da Hora')] [(10.204545454545455, 'Paredes'), (14.799230769230768, 'Aljubarrota'), (17.01625, 'Lisbon')]\n",
            "('Portugal', 6) [(53.184000000000005, 'Senhora da Hora'), (72.83857142857143, 'Corroios'), (77.06705882352942, 'Paredes')] [(21.82125, 'Aljubarrota'), (29.258888888888894, 'Lagos'), (29.735000000000003, 'Lisbon')]\n",
            "('Portugal', 7) [(52.31681818181819, 'Paredes'), (80.86272727272727, 'Senhora da Hora'), (103.08000000000001, 'Corroios')] [(17.376, 'Lagos'), (27.214, 'Aljubarrota'), (36.823750000000004, 'Lisbon')]\n",
            "('Portugal', 8) [(67.22999999999999, 'Senhora da Hora'), (91.66619047619048, 'Paredes'), (223.8, 'Corroios')] [(13.257, 'Pardilhó'), (19.405, 'Lagos'), (22.251428571428573, 'Lisbon')]\n",
            "('Portugal', 9) [(45.90875, 'Senhora da Hora'), (48.49857142857143, 'Paredes'), (225.50666666666666, 'Corroios')] [(12.335714285714285, 'Pardilhó'), (20.37545454545455, 'Lagos'), (24.03857142857143, 'Lisbon')]\n",
            "('Portugal', 10) [(35.458333333333336, 'Paredes'), (61.00111111111111, 'Senhora da Hora'), (118.0, 'Corroios')] [(14.267272727272728, 'Pardilhó'), (23.36666666666667, 'Lisbon'), (24.62076923076923, 'Lagos')]\n",
            "('Portugal', 11) [(53.06375000000001, 'Senhora da Hora'), (84.91928571428572, 'Paredes'), (170.9053846153846, 'Corroios')] [(16.240000000000002, 'Pardilhó'), (29.046666666666663, 'Lisbon'), (32.38727272727272, 'Aljubarrota')]\n",
            "('Portugal', 12) [(39.17, 'Senhora da Hora'), (63.785000000000004, 'Corroios'), (79.11600000000001, 'Paredes')] [(6.611111111111111, 'Pardilhó'), (18.269, 'Lisbon'), (19.028, 'Aljubarrota')]\n",
            "('Portugal', 13) [(40.48454545454546, 'Senhora da Hora'), (61.74235294117648, 'Paredes'), (234.34400000000005, 'Corroios')] [(9.844, 'Pardilhó'), (11.698333333333332, 'Lisbon'), (18.235384615384614, 'Lagos')]\n",
            "('Portugal', 14) [(16.0, 'Aljubarrota'), (22.153333333333332, 'Lisbon'), (188.9175, 'Corroios')] [(4.635, 'Pardilhó'), (12.943333333333333, 'Paredes'), (13.723333333333334, 'Senhora da Hora')]\n",
            "('Spain', 1) [(93.74000000000001, 'Sóller'), (118.21, 'Getafe'), (1111.1188888888892, 'Santa Cruz de la Palma')] [(21.833333333333332, 'Albacete'), (23.060000000000002, 'Manzanares el Real'), (24.982777777777777, 'Castelldefels')]\n",
            "('Spain', 2) [(76.51333333333334, 'Sóller'), (88.42363636363635, 'Málaga'), (359.7918181818182, 'Santa Cruz de la Palma')] [(6.802499999999999, 'Manzanares el Real'), (12.034081632653063, 'Castelldefels'), (13.223636363636361, 'Majadahonda')]\n",
            "('Spain', 3) [(72.60716666666667, 'Castelldefels'), (122.82124999999999, 'el Parc i la Llacuna del Poblenou'), (125.49, 'Zaragoza')] [(12.8, 'Albacete'), (13.457727272727276, 'Almería'), (13.953846153846154, 'Derio')]\n",
            "('Spain', 4) [(113.80069767441861, 'Castelldefels'), (120.4725, 'el Parc i la Llacuna del Poblenou'), (1048.5192307692307, 'Santa Cruz de la Palma')] [(3.28, 'La Laguna'), (3.5480000000000005, 'Zaragoza'), (10.684000000000001, 'Santa Cruz de Tenerife')]\n",
            "('Spain', 5) [(86.61428571428571, 'Castelldefels'), (119.579, 'el Parc i la Llacuna del Poblenou'), (1323.2308333333333, 'Santa Cruz de la Palma')] [(4.417142857142857, 'Moraira'), (10.013333333333334, 'Altea'), (10.959090909090907, 'Melilla')]\n",
            "('Spain', 6) [(103.2145945945946, 'Castelldefels'), (266.51666666666665, 'La Laguna'), (1450.6436363636365, 'Santa Cruz de la Palma')] [(16.878999999999998, 'Moraira'), (18.983636363636364, 'Sant Just Desvern'), (20.52769230769231, 'la Salut')]\n",
            "('Spain', 7) [(91.99000000000001, 'El Masnou'), (215.031, 'Castelldefels'), (1406.4763636363637, 'Santa Cruz de la Palma')] [(9.555000000000001, 'Derio'), (21.564999999999998, 'San Silvestre de Guzmán'), (21.60727272727273, 'el Parc i la Llacuna del Poblenou')]\n",
            "('Spain', 8) [(153.77999999999997, 'Denia'), (161.86708333333334, 'Castelldefels'), (1337.1799999999998, 'Santa Cruz de la Palma')] [(5.58, 'Melilla'), (7.225555555555555, 'Majadahonda'), (7.903333333333333, 'Gijón')]\n",
            "('Spain', 9) [(95.22899999999998, 'Santa Cruz de Tenerife'), (95.82428571428571, 'La Laguna'), (1712.3812500000001, 'Santa Cruz de la Palma')] [(1.4975, 'Melilla'), (10.389166666666666, 'San Silvestre de Guzmán'), (13.246363636363634, 'Majadahonda')]\n",
            "('Spain', 10) [(38.38307692307693, 'Santa Coloma de Gramenet'), (67.88, 'Chamberí'), (1562.6791666666668, 'Santa Cruz de la Palma')] [(3.263333333333333, 'Usera'), (3.459090909090909, 'Denia'), (4.842727272727273, 'Majadahonda')]\n",
            "('Spain', 11) [(56.00000000000001, 'Moraira'), (67.36999999999999, 'Chamberí'), (1424.42, 'Santa Cruz de la Palma')] [(1.1855555555555553, 'Melilla'), (5.877, 'Majadahonda'), (6.79, 'La Laguna')]\n",
            "('Spain', 12) [(79.28, 'Oviedo'), (142.642, 'Chamberí'), (1510.9599999999998, 'Santa Cruz de la Palma')] [(6.8475, 'La Laguna'), (8.286363636363637, 'San Silvestre de Guzmán'), (9.594545454545456, 'Melilla')]\n",
            "('Spain', 13) [(161.37, 'Chamberí'), (277.658, 'Moraira'), (1037.05625, 'Santa Cruz de la Palma')] [(5.25625, 'Majadahonda'), (6.87, 'Melilla'), (7.524705882352942, 'Almería')]\n",
            "('Spain', 14) [(53.97, 'Denia'), (62.67, 'Moraira'), (962.4216666666667, 'Santa Cruz de la Palma')] [(1.385, 'Melilla'), (3.7199999999999998, 'Santa Cruz de Tenerife'), (7.825999999999999, 'Majadahonda')]\n"
          ]
        }
      ],
      "source": [
        "#@title Resolution using Spark Core\n",
        "import pyspark\n",
        "import json\n",
        "import string\n",
        "from datetime import datetime\n",
        "from operator import *\n",
        "from pyspark import pandas\n",
        "\n",
        "psc = pyspark.SparkContext('local[*]') # Cria o SparkContext, em local mode\n",
        "\n",
        "try:\n",
        "\n",
        "  data1 = psc.textFile('/content/files') # Faz o carregamento dos dados\n",
        "  data11 = data1.map(lambda line: line.split(';')).filter( lambda values: len(values) == 7).filter( lambda values: len(values[5])>0).filter( lambda values: len(values[6])>0)\n",
        "  # Faz o split dos campos de cada linha, por ;, o filtro de cada linha por forma a ficar apenas com aquelas que têm 7 campos e o filtro das linhas que contêm valores positivos para os valores de p1 e p2\n",
        "  data12 = data11.map( lambda v: (int(v[0]), (v[0], datetime.strptime(v[4],'%Y-%m-%dT%H:%M:%S').isocalendar()[1], float(v[5]), float(v[6]))))\n",
        "  # Faz o map, em que a key corresponde ao sensor_id (integer) e a value à tuple (sensor_id, semana do ano, float(p1), float(p2))\n",
        "  data2 = psc.textFile('/content/drive/MyDrive/projeto_spbd/sensors_all.json') # Faz o carregamento do ficheiro JSON\n",
        "  data21 = data2.map(lambda line: json.loads(line)) # Faz o map do ficheiro JSON\n",
        "  data22 = data21.flatMap(lambda line: line) # Faz o flatMap do data21, onde cada linha corresponde a um dicionário com os valores correspondentes às variáveis do sensor_id, country, city e country_code (todas elas string)\n",
        "  data23 = data22.map(lambda x: (int(x[\"sensor_id\"]), (x[\"country\"], x[\"city\"]))) # Faz o map de data22, onde a key corresponde ao sensor_id (integer) e a value à tuple (country, city)\n",
        "\n",
        "  sensors = data23.join(data12) # Faz o joint dos dois RDDs, data23 e data12, pela key sensor_id\n",
        "  sensors2 = sensors.map(lambda x: ((x[1][0][0],x[1][0][1],x[1][1][1]), (x[1][1][2], x[1][1][3], 1))) # Faz o map, em que a key corresponde à tuple (country, city, semana) e value à tuple (p1, p2, 1)\n",
        "  sensors3 = sensors2.reduceByKey( lambda a, b: (a[0]+b[0], a[1]+b[1], a[2]+b[2])) # Faz o reduceByKey, onde é feita a operação: (p1+p1, p2+p2, 1+1), para cada linha\n",
        "  sensors4 = sensors3.map( lambda x: ((x[0][0],x[0][2]), ((x[1][0]+x[1][1])/x[1][2], x[0][1]))).sortBy(lambda x: (x[0][0], x[0][1], x[1][0])).map(lambda x: (x[0],[x[1]]))\n",
        "  # Faz o map, em que a key corresponde à tuple (country, semana) e a value à tuple (media de p1+p2, city). É feito o sortBy por country, semana e media de p1+p2 (métrica). É feito o map, em que a key corresponde à tuple (country, semana) e a value a uma LISTA com a tuple (media de p1+p2, city).\n",
        "  sensors5 = sensors4.reduceByKey( lambda a, b: a + b).sortByKey( lambda x: x[0]) # É feito o reduceByKey, onde a key é a tuple (country, semana) e a value a LISTA com as VÁRIAS tuples (métrica, city). É feito o sort pela key. \n",
        "\n",
        "  for s, v in sensors5.collect():\n",
        "    print(s, v[-3:], v[0:3])\n",
        "  # É feito o print da key (country, semana) e dos 3 melhores métricas (e correspondente cidade) e 3 piores métricas (e correspondente cidade)\n",
        "  psc.stop()\n",
        "except Exception as e: \n",
        "  print(e)\n",
        "  psc.stop()"
      ]
    }
  ],
  "metadata": {
    "colab": {
      "provenance": []
    },
    "kernelspec": {
      "display_name": "Python 3",
      "name": "python3"
    },
    "language_info": {
      "name": "python"
    }
  },
  "nbformat": 4,
  "nbformat_minor": 0
}
