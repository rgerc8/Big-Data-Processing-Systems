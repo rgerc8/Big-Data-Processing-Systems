{
  "cells": [
    {
      "cell_type": "markdown",
      "metadata": {
        "id": "QzpbnmRJwQTB"
      },
      "source": [
        "### Question 4 - Sensor coverage\n",
        "Compute the set of (disjoint) connected components (areas) defined over a grid of 2 Km x 2  Km cells. \n",
        "\n",
        "A grid cell is occupied, if there is at least one sensor whose coordinates fall in the given grid. Two grid cells belong to the same component (area), if the they are neighbours (horizontally or vertically). \n",
        "\n",
        "For simplicity, assume that .008983112 latitude degrees correspond to 1Km (North/South), and .011972 longitude degrees to 1KM(East/West).\n",
        "\n",
        "The result should be computed for a period spanning the last 3 days of the provided dataset. To name the computed areas use the pair (sensor_id, city) closest to area \"centroid\" cell.\n",
        "\n",
        "**Requeriment**: For this question, use a single framework of your choice, of those studied."
      ]
    },
    {
      "cell_type": "code",
      "execution_count": 1,
      "metadata": {
        "colab": {
          "base_uri": "https://localhost:8080/"
        },
        "id": "1fb5ZGiGChfk",
        "outputId": "0770528a-c2c5-469e-b329-1c1c1a1a99d9"
      },
      "outputs": [
        {
          "name": "stdout",
          "output_type": "stream",
          "text": [
            "Mounted at /content/drive\n"
          ]
        }
      ],
      "source": [
        "#@title Mount Google Drive\n",
        "from google.colab import drive\n",
        "drive.mount('/content/drive') # Faz o mount da drive"
      ]
    },
    {
      "cell_type": "code",
      "execution_count": 2,
      "metadata": {
        "colab": {
          "base_uri": "https://localhost:8080/"
        },
        "id": "FeYphkhuEJbF",
        "outputId": "d0a96217-49f6-4abf-9ae1-8bf923ad9abd"
      },
      "outputs": [
        {
          "name": "stdout",
          "output_type": "stream",
          "text": [
            "\u001b[K     |████████████████████████████████| 281.4 MB 43 kB/s \n",
            "\u001b[K     |████████████████████████████████| 199 kB 66.4 MB/s \n",
            "\u001b[?25h  Building wheel for pyspark (setup.py) ... \u001b[?25l\u001b[?25hdone\n"
          ]
        }
      ],
      "source": [
        "#@title Install Pyspark\n",
        "!pip install --quiet pyspark # Faz a instalação do Pyspark"
      ]
    },
    {
      "cell_type": "code",
      "execution_count": 3,
      "metadata": {
        "colab": {
          "base_uri": "https://localhost:8080/"
        },
        "id": "oueftaJ_EMNe",
        "outputId": "1fede85e-d178-41d0-8874-6ed480b6c387"
      },
      "outputs": [
        {
          "name": "stdout",
          "output_type": "stream",
          "text": [
            "\u001b[?25l\r\u001b[K     |██▏                             | 10 kB 12.2 MB/s eta 0:00:01\r\u001b[K     |████▎                           | 20 kB 7.6 MB/s eta 0:00:01\r\u001b[K     |██████▍                         | 30 kB 10.6 MB/s eta 0:00:01\r\u001b[K     |████████▌                       | 40 kB 4.4 MB/s eta 0:00:01\r\u001b[K     |██████████▋                     | 51 kB 4.6 MB/s eta 0:00:01\r\u001b[K     |████████████▊                   | 61 kB 5.4 MB/s eta 0:00:01\r\u001b[K     |██████████████▉                 | 71 kB 5.5 MB/s eta 0:00:01\r\u001b[K     |█████████████████               | 81 kB 5.9 MB/s eta 0:00:01\r\u001b[K     |███████████████████             | 92 kB 6.5 MB/s eta 0:00:01\r\u001b[K     |█████████████████████▏          | 102 kB 6.6 MB/s eta 0:00:01\r\u001b[K     |███████████████████████▎        | 112 kB 6.6 MB/s eta 0:00:01\r\u001b[K     |█████████████████████████▍      | 122 kB 6.6 MB/s eta 0:00:01\r\u001b[K     |███████████████████████████▌    | 133 kB 6.6 MB/s eta 0:00:01\r\u001b[K     |█████████████████████████████▋  | 143 kB 6.6 MB/s eta 0:00:01\r\u001b[K     |███████████████████████████████▊| 153 kB 6.6 MB/s eta 0:00:01\r\u001b[K     |████████████████████████████████| 154 kB 6.6 MB/s \n",
            "\u001b[?25h"
          ]
        }
      ],
      "source": [
        "#@title Install Spark GraphFrames\n",
        "!pip install --quiet graphframes # Faz a instalação do GraphFrames"
      ]
    },
    {
      "cell_type": "code",
      "execution_count": 39,
      "metadata": {
        "colab": {
          "base_uri": "https://localhost:8080/"
        },
        "id": "imbHeUjdxiyA",
        "outputId": "13b1c971-ee40-48d1-d554-68d9659064fd"
      },
      "outputs": [
        {
          "name": "stdout",
          "output_type": "stream",
          "text": [
            "\u001b[K     |████████████████████████████████| 1.1 MB 4.7 MB/s \n",
            "\u001b[K     |████████████████████████████████| 16.6 MB 92 kB/s \n",
            "\u001b[K     |████████████████████████████████| 7.8 MB 50.6 MB/s \n",
            "\u001b[?25h"
          ]
        }
      ],
      "source": [
        "#@title Install GeoPandas\n",
        "!pip install --quiet geopandas"
      ]
    },
    {
      "cell_type": "code",
      "execution_count": 42,
      "metadata": {
        "id": "MaVPtTJOyu-e"
      },
      "outputs": [],
      "source": [
        "#@title Install Shapely\n",
        "!pip install --quiet shapely"
      ]
    },
    {
      "cell_type": "code",
      "execution_count": 4,
      "metadata": {
        "id": "V3cncXfL6Tr_"
      },
      "outputs": [],
      "source": [
        "#@title Dataset\n",
        "!head -10000 /content/drive/MyDrive/projeto_spbd/sds011-2020-06-30.csv > files \n",
        "# Dataset utilizado. Este dataset foi apenas utilizado para parte de um dia para facilitar o tempo de computação."
      ]
    },
    {
      "cell_type": "code",
      "execution_count": 32,
      "metadata": {
        "colab": {
          "base_uri": "https://localhost:8080/"
        },
        "id": "0CBr5897EPF3",
        "outputId": "4ebbe0a3-d8e7-424d-f082-8ea497964828"
      },
      "outputs": [
        {
          "name": "stdout",
          "output_type": "stream",
          "text": [
            "+--------+--------------------+--------+---------+---------+\n",
            "| country|                city|latitude|longitude|sensor_id|\n",
            "+--------+--------------------+--------+---------+---------+\n",
            "|   Spain|Santa Cruz de Ten...|  28.466|  -16.274|    34030|\n",
            "|   Spain|             Melilla|  35.296|   -2.944|    18241|\n",
            "|   Spain|              Málaga|  36.691|  -4.4488|    42826|\n",
            "|   Spain|              Málaga|  36.691|  -4.4487|    46671|\n",
            "|   Spain|              Málaga| 36.6912|  -4.4531|    39596|\n",
            "|   Spain|              Málaga| 36.6912|  -4.4486|    36109|\n",
            "|   Spain|              Málaga| 36.7102|  -4.4454|    37985|\n",
            "|   Spain|              Málaga|  36.728|   -4.414|    47617|\n",
            "|Portugal|               Lagos| 37.0919|  -8.6831|    25874|\n",
            "|   Spain|San Silvestre de ...|  37.354|   -7.442|    17016|\n",
            "|   Spain|               Altea|  38.578|   -0.066|    43182|\n",
            "|Portugal|            Corroios|  38.646|   -9.154|     4638|\n",
            "|   Spain|             Moraira|  38.704|    0.152|    10174|\n",
            "|Portugal|              Lisbon| 38.7414|  -9.1599|    40142|\n",
            "|   Spain|               Denia| 38.8218|    0.132|    41621|\n",
            "|   Spain|            Albacete|  39.018|   -1.886|    37175|\n",
            "|Portugal|         Aljubarrota| 39.5324|   -8.929|    33204|\n",
            "|   Spain|              Sóller| 39.7675|   2.7139|    33878|\n",
            "|   Spain|              Getafe|  40.294|   -3.754|    19782|\n",
            "|   Spain|               Usera|  40.386|    -3.71|    43554|\n",
            "+--------+--------------------+--------+---------+---------+\n",
            "only showing top 20 rows\n",
            "\n",
            "+-------+-------+-------+-------+\n",
            "|lat_min|lat_max|lon_min|lon_max|\n",
            "+-------+-------+-------+-------+\n",
            "| 28.466| 54.808|-16.274| 23.404|\n",
            "+-------+-------+-------+-------+\n",
            "\n"
          ]
        }
      ],
      "source": [
        "#@title Resolution using Spark SQL\n",
        "import pandas as pd\n",
        "import numpy as np\n",
        "from pyspark.sql import *\n",
        "from pyspark.sql.types import *\n",
        "from pyspark.sql.functions import *\n",
        "from graphframes import *\n",
        "from pyspark.sql import SparkSession\n",
        "from pyspark.sql import SQLContext\n",
        "from google.colab import files\n",
        "\n",
        "main_data = \"/content/files\" # Dataset principal\n",
        "aux_data = \"/content/drive/MyDrive/projeto_spbd/sensors_all.json\" # Dataset secundário\n",
        "\n",
        "spark = SparkSession.builder.master('local[*]').appName('/content/files').config('spark.jars.packages', 'graphframes:graphframes:0.8.2-spark3.1-s_2.12').getOrCreate() # É iniciada a SparkSession, em local mode\n",
        "sc = spark.sparkContext # Cria o SparkContext\n",
        "\n",
        "custom_schema = StructType([StructField(\"sen_id\", StringType(), True),StructField(\"file_id\", StringType(), True),StructField(\"lat\", FloatType(), True),StructField(\"lon\", FloatType(), True),StructField(\"timestamp\", TimestampType(), True),StructField(\"p1\", FloatType(), True),StructField(\"p2\", FloatType(), True),])\n",
        "# É criado um schema para o DataFrame\n",
        "df1 = spark.read.csv(main_data, header=False, sep=';', schema=custom_schema) # Lê o ficheiro csv\n",
        "df2 = spark.read.json(aux_data) # Lê o ficheiro JSON\n",
        "df1.createOrReplaceTempView('df1_tv') # Cria uma Temporary View do ficheiro csv\n",
        "df2.createOrReplaceTempView('df2_tv') # Cria uma Temporary View do ficheiro JSON\n",
        "\n",
        "df_joint = spark.sql('SELECT DISTINCT country, city, ROUND(lat, 4) AS latitude, ROUND(lon, 4) AS longitude, df2_tv.sensor_id FROM df2_tv \\\n",
        "JOIN df1_tv ON df1_tv.sen_id = df2_tv.sensor_id ORDER BY latitude, longitude') # Faz o JOIN dos dois datasets e apresenta os dados das colunas country, city, latitude, longitude, sensor_id\n",
        "df_joint.createOrReplaceTempView('df_joint_tv') # Cria uma Temporary View do df_joint\n",
        "df_joint.show()\n",
        "\n",
        "df_edges = spark.sql('SELECT min(latitude) AS lat_min, max(latitude) \\\n",
        "AS lat_max, min(longitude) AS lon_min, max(longitude) AS lon_max FROM df_joint_tv') # Apresenta a latitudes máxima e mínima, e longitude máxima e mínima.\n",
        "df_edges.show()"
      ]
    },
    {
      "cell_type": "code",
      "execution_count": 33,
      "metadata": {
        "colab": {
          "base_uri": "https://localhost:8080/"
        },
        "id": "_0fhTn3sEW5N",
        "outputId": "4784e08b-2def-40a0-d05a-b94ec3675e73"
      },
      "outputs": [
        {
          "name": "stdout",
          "output_type": "stream",
          "text": [
            "+-----------+---+---+\n",
            "|         id|  i|  j|\n",
            "+-----------+---+---+\n",
            "|  unit(0,0)|  0|  0|\n",
            "|  unit(7,8)|  7|  8|\n",
            "| unit(7,10)|  7| 10|\n",
            "| unit(7,11)|  7| 11|\n",
            "| unit(7,12)|  7| 12|\n",
            "|  unit(8,8)|  8|  8|\n",
            "|unit(10,15)| 10| 15|\n",
            "| unit(11,8)| 11|  8|\n",
            "|unit(11,19)| 11| 19|\n",
            "|unit(12,11)| 12| 11|\n",
            "|unit(12,12)| 12| 12|\n",
            "|unit(12,19)| 12| 19|\n",
            "|unit(12,20)| 12| 20|\n",
            "| unit(13,6)| 13|  6|\n",
            "|unit(13,14)| 13| 14|\n",
            "|unit(13,20)| 13| 20|\n",
            "|unit(14,10)| 14| 10|\n",
            "|unit(14,15)| 14| 15|\n",
            "|unit(14,18)| 14| 18|\n",
            "|unit(14,19)| 14| 19|\n",
            "+-----------+---+---+\n",
            "only showing top 20 rows\n",
            "\n"
          ]
        }
      ],
      "source": [
        "#@title Setting the Grid\n",
        "lat_min = df_edges.collect()[0][0]; lat_max = df_edges.collect()[0][1]; lon_min = df_edges.collect()[0][2]; lon_max = df_edges.collect()[0][3] \n",
        "# Vai buscar os valores das latitudes máxima e mínima e longitudes máxima e mínima.\n",
        "longitude_dimension = 1.0; latitude_dimension = 1.0 # Estabelece as dimensões da grelha\n",
        "\n",
        "# Cria e alimenta uma lista com os valores de longitude\n",
        "lon_values = []\n",
        "lon_atual = lon_min\n",
        "while lon_atual < lon_max:\n",
        "    lon_values.append(lon_atual)\n",
        "    lon_atual = lon_atual + longitude_dimension\n",
        "\n",
        "# Cria e alimenta uma lista com os valores de latitude\n",
        "lat_values = []\n",
        "lat_atual = lat_min\n",
        "while lat_atual < lat_max:\n",
        "    lat_values.append(lat_atual)\n",
        "    lat_atual = lat_atual + latitude_dimension\n",
        "\n",
        "grelha = [(lon, lat, i, j) for i, lon in enumerate(lon_values) for j, lat in enumerate(lat_values)] # Cria uma lista de tuples (longitude, latitude)\n",
        "\n",
        "df_grelha = spark.createDataFrame(grelha, [\"lon\", \"lat\", \"i\", \"j\"]) # Transforma a lista de tuples criada anteriormente para um Spark DataFrame\n",
        "\n",
        "df_grelha.createOrReplaceTempView(\"matrix\") # Cria uma Temporary View da df_grelha\n",
        "\n",
        "presence_grid = spark.sql(f\"SELECT DISTINCT 'unit('||i||','||j||')' AS id, i, j, lat, lon FROM (SELECT CASE WHEN (longitude between lon and lon+{longitude_dimension}) and (latitude between lat and lat+{latitude_dimension}) \\\n",
        "THEN 1 ELSE 0 END Gk, i, j, ROUND(n.lat, 4) AS lat, ROUND(n.lon, 4) AS lon, m.* \\\n",
        "FROM matrix AS n CROSS JOIN (SELECT DISTINCT ROUND(lat, 4) AS latitude, ROUND(lon, 4) AS longitude FROM df2_tv \\\n",
        "JOIN df1_tv ON df2_tv.sensor_id = df1_tv.sen_id ORDER BY latitude, longitude) as m) WHERE Gk=1 ORDER BY i, j\")\n",
        "# Esta query verifica quais as units da grelha que têm sensores\n",
        "\n",
        "grelha_input = presence_grid # Guarda os resultados num DataFrame novo, por forma a poder ser utilizado mais tarde\n",
        "grelha_input_final = grelha_input.drop(\"lat\",\"lon\") # Faz o Drop das colunas \"lat\" e \"lon\"\n",
        "\n",
        "grelha_input_final.show() # Apresenta os resultados da grelha_input_final"
      ]
    },
    {
      "cell_type": "code",
      "execution_count": 7,
      "metadata": {
        "colab": {
          "base_uri": "https://localhost:8080/"
        },
        "id": "Z-nVVDKXEbQl",
        "outputId": "53289da2-78d2-465a-ad6d-67929cd3b482"
      },
      "outputs": [
        {
          "name": "stdout",
          "output_type": "stream",
          "text": [
            "+---------+---+---+-----------+---+---+\n",
            "|id       |i  |j  |id2        |i2 |j2 |\n",
            "+---------+---+---+-----------+---+---+\n",
            "|unit(0,0)|0  |0  |unit(0,0)  |0  |0  |\n",
            "|unit(0,0)|0  |0  |unit(7,8)  |7  |8  |\n",
            "|unit(0,0)|0  |0  |unit(7,10) |7  |10 |\n",
            "|unit(0,0)|0  |0  |unit(7,11) |7  |11 |\n",
            "|unit(0,0)|0  |0  |unit(7,12) |7  |12 |\n",
            "|unit(0,0)|0  |0  |unit(8,8)  |8  |8  |\n",
            "|unit(0,0)|0  |0  |unit(10,15)|10 |15 |\n",
            "|unit(0,0)|0  |0  |unit(11,8) |11 |8  |\n",
            "|unit(0,0)|0  |0  |unit(11,19)|11 |19 |\n",
            "|unit(0,0)|0  |0  |unit(12,11)|12 |11 |\n",
            "|unit(0,0)|0  |0  |unit(12,12)|12 |12 |\n",
            "|unit(0,0)|0  |0  |unit(12,19)|12 |19 |\n",
            "|unit(0,0)|0  |0  |unit(12,20)|12 |20 |\n",
            "|unit(0,0)|0  |0  |unit(13,6) |13 |6  |\n",
            "|unit(0,0)|0  |0  |unit(13,14)|13 |14 |\n",
            "|unit(0,0)|0  |0  |unit(13,20)|13 |20 |\n",
            "|unit(0,0)|0  |0  |unit(14,10)|14 |10 |\n",
            "|unit(0,0)|0  |0  |unit(14,15)|14 |15 |\n",
            "|unit(0,0)|0  |0  |unit(14,18)|14 |18 |\n",
            "|unit(0,0)|0  |0  |unit(14,19)|14 |19 |\n",
            "+---------+---+---+-----------+---+---+\n",
            "only showing top 20 rows\n",
            "\n",
            "root\n",
            " |-- id: string (nullable = true)\n",
            " |-- i: long (nullable = true)\n",
            " |-- j: long (nullable = true)\n",
            " |-- id2: string (nullable = true)\n",
            " |-- i2: long (nullable = true)\n",
            " |-- j2: long (nullable = true)\n",
            "\n",
            "+-----------+---+---+-----------+---+---+\n",
            "|id         |i  |j  |id2        |i2 |j2 |\n",
            "+-----------+---+---+-----------+---+---+\n",
            "|unit(18,20)|18 |20 |unit(18,20)|18 |20 |\n",
            "|unit(18,20)|18 |20 |unit(17,20)|17 |20 |\n",
            "|unit(18,20)|18 |20 |unit(18,19)|18 |19 |\n",
            "|unit(18,16)|18 |16 |unit(18,16)|18 |16 |\n",
            "|unit(8,8)  |8  |8  |unit(8,8)  |8  |8  |\n",
            "|unit(8,8)  |8  |8  |unit(7,8)  |7  |8  |\n",
            "|unit(17,20)|17 |20 |unit(17,20)|17 |20 |\n",
            "|unit(17,20)|17 |20 |unit(16,20)|16 |20 |\n",
            "|unit(17,20)|17 |20 |unit(17,19)|17 |19 |\n",
            "|unit(13,20)|13 |20 |unit(13,20)|13 |20 |\n",
            "|unit(13,20)|13 |20 |unit(12,20)|12 |20 |\n",
            "|unit(14,20)|14 |20 |unit(13,20)|13 |20 |\n",
            "|unit(14,20)|14 |20 |unit(14,20)|14 |20 |\n",
            "|unit(14,20)|14 |20 |unit(14,19)|14 |19 |\n",
            "|unit(12,19)|12 |19 |unit(12,19)|12 |19 |\n",
            "|unit(12,19)|12 |19 |unit(11,19)|11 |19 |\n",
            "|unit(13,14)|13 |14 |unit(13,14)|13 |14 |\n",
            "|unit(16,17)|16 |17 |unit(16,17)|16 |17 |\n",
            "|unit(16,17)|16 |17 |unit(16,16)|16 |16 |\n",
            "|unit(15,19)|15 |19 |unit(15,19)|15 |19 |\n",
            "+-----------+---+---+-----------+---+---+\n",
            "only showing top 20 rows\n",
            "\n"
          ]
        }
      ],
      "source": [
        "#@title Verifying the Neighbourhood\n",
        "grelha_input_final = grelha_input_final.crossJoin(grelha_input_final.withColumnRenamed(\"i\",\"i2\").withColumnRenamed(\"j\", \"j2\").withColumnRenamed(\"id\", \"id2\"))\n",
        "grelha_input_final.show(truncate=False)\n",
        "\n",
        "def _areNeighbours(li, lj, ri, rj):\n",
        "    dx = li - ri\n",
        "    dy = lj - rj\n",
        "    return (dx >= 0 and dx <= 1 and dy == 0) or (dx == 0 and dy >= 0 and dy <= 1)\n",
        "\n",
        "areNeighbours = udf(_areNeighbours)\n",
        "grelha_input_final = grelha_input_final.select('*', areNeighbours(grelha_input_final.i, grelha_input_final.j, grelha_input_final.i2, grelha_input_final.j2).alias(\"adjacent\")) \\\n",
        "\n",
        "grelha_input_final = grelha_input_final.filter(grelha_input_final.adjacent == True).drop('adjacent')\n",
        "grelha_input_final.printSchema()\n",
        "\n",
        "grelha_input_final.show(truncate=False)"
      ]
    },
    {
      "cell_type": "code",
      "execution_count": 8,
      "metadata": {
        "colab": {
          "base_uri": "https://localhost:8080/"
        },
        "id": "0jjba317EfwF",
        "outputId": "2e0f1fca-37ea-4d4d-bb0f-647625219a80"
      },
      "outputs": [
        {
          "name": "stdout",
          "output_type": "stream",
          "text": [
            "+-----------+\n",
            "|         id|\n",
            "+-----------+\n",
            "|unit(18,11)|\n",
            "|unit(33,23)|\n",
            "|unit(24,18)|\n",
            "|unit(24,24)|\n",
            "|unit(39,22)|\n",
            "|unit(38,23)|\n",
            "|unit(28,21)|\n",
            "|unit(29,23)|\n",
            "|unit(15,20)|\n",
            "|unit(25,19)|\n",
            "|unit(25,23)|\n",
            "|unit(26,19)|\n",
            "|unit(35,25)|\n",
            "|unit(23,23)|\n",
            "|unit(23,20)|\n",
            "|unit(30,23)|\n",
            "|unit(19,21)|\n",
            "|unit(16,14)|\n",
            "|  unit(8,8)|\n",
            "|unit(26,26)|\n",
            "+-----------+\n",
            "only showing top 20 rows\n",
            "\n",
            "+-----------+-----------+\n",
            "|        src|        dst|\n",
            "+-----------+-----------+\n",
            "|unit(18,20)|unit(18,20)|\n",
            "|unit(18,20)|unit(17,20)|\n",
            "|unit(18,20)|unit(18,19)|\n",
            "|unit(18,16)|unit(18,16)|\n",
            "|  unit(8,8)|  unit(8,8)|\n",
            "|  unit(8,8)|  unit(7,8)|\n",
            "|unit(17,20)|unit(17,20)|\n",
            "|unit(17,20)|unit(16,20)|\n",
            "|unit(17,20)|unit(17,19)|\n",
            "|unit(13,20)|unit(13,20)|\n",
            "|unit(13,20)|unit(12,20)|\n",
            "|unit(14,20)|unit(13,20)|\n",
            "|unit(14,20)|unit(14,20)|\n",
            "|unit(14,20)|unit(14,19)|\n",
            "|unit(12,19)|unit(12,19)|\n",
            "|unit(12,19)|unit(11,19)|\n",
            "|unit(13,14)|unit(13,14)|\n",
            "|unit(16,17)|unit(16,17)|\n",
            "|unit(16,17)|unit(16,16)|\n",
            "|unit(15,19)|unit(15,19)|\n",
            "+-----------+-----------+\n",
            "only showing top 20 rows\n",
            "\n"
          ]
        },
        {
          "name": "stderr",
          "output_type": "stream",
          "text": [
            "/usr/local/lib/python3.8/dist-packages/pyspark/sql/dataframe.py:148: UserWarning: DataFrame.sql_ctx is an internal property, and will be removed in future releases. Use DataFrame.sparkSession instead.\n",
            "  warnings.warn(\n",
            "/usr/local/lib/python3.8/dist-packages/pyspark/sql/dataframe.py:127: UserWarning: DataFrame constructor is internal. Do not directly use it.\n",
            "  warnings.warn(\"DataFrame constructor is internal. Do not directly use it.\")\n"
          ]
        },
        {
          "name": "stdout",
          "output_type": "stream",
          "text": [
            "+-----------+-----------+\n",
            "|         id|  component|\n",
            "+-----------+-----------+\n",
            "|unit(18,13)|25769803776|\n",
            "|unit(18,14)|25769803776|\n",
            "|unit(18,11)|25769803776|\n",
            "|unit(18,12)|25769803776|\n",
            "|unit(26,21)|25769803777|\n",
            "|unit(24,18)|25769803777|\n",
            "|unit(33,23)|25769803777|\n",
            "|unit(36,21)|25769803777|\n",
            "|unit(39,22)|25769803777|\n",
            "|unit(28,21)|25769803777|\n",
            "|unit(23,22)|25769803777|\n",
            "|unit(26,19)|25769803777|\n",
            "|unit(23,23)|25769803777|\n",
            "|unit(30,23)|25769803777|\n",
            "|unit(31,23)|25769803777|\n",
            "|unit(38,21)|25769803777|\n",
            "|unit(25,19)|25769803777|\n",
            "|unit(22,21)|25769803777|\n",
            "|unit(37,21)|25769803777|\n",
            "|unit(28,25)|25769803777|\n",
            "+-----------+-----------+\n",
            "only showing top 20 rows\n",
            "\n"
          ]
        }
      ],
      "source": [
        "#@title Connections Components\n",
        "vertices = grelha_input_final.select(grelha_input_final.id).distinct()\n",
        "edges = grelha_input_final.select(grelha_input_final.id.alias(\"src\"), grelha_input_final.id2.alias(\"dst\"))\n",
        "\n",
        "spark.sparkContext.setCheckpointDir(\".\")\n",
        "g = GraphFrame(vertices, edges)\n",
        "\n",
        "result = g.connectedComponents()\n",
        "result.select(\"id\", \"component\").orderBy(\"component\").show()"
      ]
    },
    {
      "cell_type": "code",
      "execution_count": 37,
      "metadata": {
        "colab": {
          "base_uri": "https://localhost:8080/"
        },
        "id": "EN15nn4eEjUI",
        "outputId": "1b907fcb-a8cb-43cc-ed97-225fca16fc4a"
      },
      "outputs": [
        {
          "name": "stdout",
          "output_type": "stream",
          "text": [
            "+---------+--------------------+--------+---------+\n",
            "|sensor_id|                city|Latitude|Longitude|\n",
            "+---------+--------------------+--------+---------+\n",
            "|     6471|       Castelldefels|  40.966|    1.726|\n",
            "|    36189|               Dohna|  50.466|   14.226|\n",
            "|    46210|           Écouflant|  47.466|   -0.774|\n",
            "|    46727| Bagnères-de-Bigorre|  42.466|   -0.274|\n",
            "|    25874|               Lagos|  36.466|   -8.774|\n",
            "|    25968|   Rochefort-du-Gard|  44.466|    4.726|\n",
            "|    19782|              Getafe|  39.966|   -4.274|\n",
            "|    28848|               Derio|  42.466|   -3.274|\n",
            "|    40423|               Gijón|  43.466|   -6.274|\n",
            "|    37175|            Albacete|  38.466|   -2.274|\n",
            "|    34030|Santa Cruz de Ten...|  28.466|  -16.274|\n",
            "|    38531|            Zaragoza|  41.466|   -1.274|\n",
            "|    27941|             Antibes|  43.466|    6.726|\n",
            "|    39596|              Málaga|  36.466|   -5.274|\n",
            "|    28176|       Porto-Vecchio|  41.466|    8.726|\n",
            "|    12751|              Figeac|  44.466|    1.726|\n",
            "|    45940|           Friedenau|  45.466|    8.726|\n",
            "|    33204|         Aljubarrota|  39.466|   -9.274|\n",
            "|    42760| Saint-Genis-Pouilly|  47.466|   18.726|\n",
            "|    28848|               Derio|  43.466|   -2.274|\n",
            "|    43182|               Altea|  38.466|   -0.274|\n",
            "|    18241|             Melilla|  34.466|   -3.274|\n",
            "|    17310|      Trie-sur-Baïse|  43.466|    0.726|\n",
            "+---------+--------------------+--------+---------+\n",
            "\n"
          ]
        }
      ],
      "source": [
        "#@title Cities closest to the components centroids\n",
        "result.createOrReplaceTempView(\"df_comp\")\n",
        "grelha_input.createOrReplaceTempView(\"df_loc\")\n",
        "\n",
        "query_final = spark.sql('SELECT sensor_id, city, ROUND(centroid_lat, 4) AS Latitude, ROUND(centroid_long, 4) \\\n",
        "AS Longitude FROM (SELECT *, RANK() OVER (PARTITION BY component ORDER BY component, distance ASC) \\\n",
        "AS rank FROM (SELECT component, city, sensor_id, centroid_lat, centroid_long, ROUND(sqrt(pow(centroid_lat-i.latitude, 2) + pow(centroid_long-i.longitude, 2)), 4) \\\n",
        "AS distance FROM (SELECT m.component, (min(n.lat) + max(n.lat)) / 2 AS centroid_lat, (min(n.lon) + max(n.lon)) / 2 \\\n",
        "AS centroid_long FROM df_comp AS m CROSS JOIN df_loc AS n on m.id=n.id GROUP BY component) CROSS JOIN df_joint_tv AS i)) WHERE rank=1')\n",
        "# Esta query apresenta quais são as cidades mais próximas dos centroides de cada componente\n",
        "\n",
        "query_final.show(50) # Apresenta os resultados"
      ]
    },
    {
      "cell_type": "code",
      "execution_count": 74,
      "metadata": {
        "colab": {
          "base_uri": "https://localhost:8080/",
          "height": 700
        },
        "id": "8mbMNZNkwRHF",
        "outputId": "deb22b43-1ac9-4e24-8dcf-f69abf5287fe"
      },
      "outputs": [
        {
          "data": {
            "image/png": "[encoded data removed]",
            "text/plain": [
              "<Figure size 1440x864 with 1 Axes>"
            ]
          },
          "metadata": {
            "needs_background": "light"
          },
          "output_type": "display_data"
        }
      ],
      "source": [
        "#@title Plotting the cities\n",
        "import pandas as pd\n",
        "from shapely.geometry import Point\n",
        "import geopandas as gpd\n",
        "from geopandas import GeoDataFrame\n",
        "import matplotlib.pyplot as plt\n",
        "\n",
        "df = query_final.toPandas() # Tranforma para Pandas\n",
        "\n",
        "geometry = [Point(xy) for xy in zip(df['Longitude'], df['Latitude'])] # Descreve a latitude e longitude através da criação de Points\n",
        "gdf = GeoDataFrame(df, geometry=geometry) # Cria a GeoDataFrame\n",
        "\n",
        "world = gpd.read_file(gpd.datasets.get_path('naturalearth_lowres')) # Carrega o mapa mundo\n",
        "europe = world.loc[world['continent'] == 'Europe'] # Filtra os países apenas da Europa\n",
        "europe_wr = europe.loc[europe['name'] != 'Russia'] # Retira a Rússia, por questão de dimensão\n",
        "boundaries = europe_wr['geometry'] # Estabelece as boundaries\n",
        "gdf.plot(ax=boundaries.plot(figsize=(20, 12)), marker='o', color='red', markersize=25) # Características do plot\n",
        "plt.show() # Apresenta o mapa"
      ]
    }
  ],
  "metadata": {
    "colab": {
      "provenance": []
    },
    "kernelspec": {
      "display_name": "Python 3",
      "name": "python3"
    },
    "language_info": {
      "name": "python"
    }
  },
  "nbformat": 4,
  "nbformat_minor": 0
}
